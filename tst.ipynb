{
 "cells": [
  {
   "cell_type": "code",
   "execution_count": 33,
   "metadata": {},
   "outputs": [
    {
     "name": "stdout",
     "output_type": "stream",
     "text": [
      "8\n"
     ]
    }
   ],
   "source": [
    "import\trandom\t\n",
    "\n",
    "rg\t=\t(5,\t15)\t\n",
    "size_power=random.randint(*rg)\t\n",
    "\n",
    "print(size_power)\t\n"
   ]
  },
  {
   "cell_type": "code",
   "execution_count": 6,
   "metadata": {},
   "outputs": [
    {
     "name": "stdout",
     "output_type": "stream",
     "text": [
      "[1, 'a']\n",
      "[2, 'b']\n"
     ]
    }
   ],
   "source": [
    "c_ls\t=\t[1,\t2]\n",
    "s_ls\t=\t['a',\t'b',\t'c',\t'd']\n",
    "\t\n",
    "for\tc,\ts\tin\tzip(c_ls,\ts_ls):\n",
    "\tprint([c,\ts])"
   ]
  },
  {
   "cell_type": "code",
   "execution_count": 2,
   "metadata": {},
   "outputs": [
    {
     "name": "stdout",
     "output_type": "stream",
     "text": [
      "32\n",
      "[5, 7, 9]\n"
     ]
    }
   ],
   "source": [
    "print(2**5)\n",
    "\n",
    "\n",
    "list1 = [1, 2, 3]\n",
    "list2 = [4, 5, 6]\n",
    "\n",
    "# 使用zip函数和列表推导式来实现对应元素相加\n",
    "result = [x + y for x, y in zip(list1, list2)]\n",
    "\n",
    "print(result)  # 输出将是[5, 7, 9]"
   ]
  },
  {
   "cell_type": "code",
   "execution_count": 4,
   "metadata": {},
   "outputs": [
    {
     "name": "stdout",
     "output_type": "stream",
     "text": [
      "341.3333333333333 6912\n"
     ]
    }
   ],
   "source": [
    "from hycops.classes.workload.stack import Stack\n",
    "from hycops.classes.hardware.core_group import *\n",
    "from math import ceil\n",
    "\n",
    "\n",
    "def evaluation_one_core(stack: Stack, core: Core):\n",
    "    act_buf_size = core.get_act_buf_size()  # unit: KB\n",
    "    unroll = core.get_unroll()\n",
    "    ich_plus_och_per_layer = [ich + och for ich, och in zip(stack.ich_per_layer, stack.och_per_layer)]\n",
    "    unit_tile_data_amount = max(ich_plus_och_per_layer) * unroll['h'] * unroll['w'] / 1024  # unit: KB\n",
    "    unit_tile_factor = act_buf_size / unit_tile_data_amount\n",
    "    core_fusion_one_tile_area = unit_tile_factor * unroll['h'] * unroll['w']\n",
    "    core_fusion_one_tile_delay_per_layer = [ceil(unit_tile_factor) * \n",
    "                                            ceil(ich / unroll['ic']) * \n",
    "                                            ceil(och / unroll['oc']) * \n",
    "                                            ceil(kernel / unroll['fx']) * \n",
    "                                            ceil(kernel / unroll['fy']) \n",
    "                                            for ich, och, kernel in zip(stack.ich_per_layer, stack.och_per_layer, stack.kernel_size)]\n",
    "    core_fusion_one_tile_delay = sum(core_fusion_one_tile_delay_per_layer)\n",
    "    return core_fusion_one_tile_area, core_fusion_one_tile_delay\n",
    "\n",
    "\n",
    "\n",
    "c = Core(act_buf=Buffer(6, 5), wt_buf=Buffer(5, 5), pe_array=PEA(unroll_power=[3, 4, 4, 2, 0, 0]))\n",
    "s = Stack(id=1, stack_di={\n",
    "    1: {\n",
    "        'op': 'conv',\n",
    "        'dim': [64, 480, 128, 64, 3, 3]\n",
    "    },\n",
    "    2: {\n",
    "        'op': 'conv',\n",
    "        'dim': [64, 480, 64, 128, 3, 3]\n",
    "    }\n",
    "})\n",
    "\n",
    "a, d = evaluation_one_core(s, c)\n",
    "print(a, d)\n",
    "    "
   ]
  },
  {
   "cell_type": "code",
   "execution_count": 40,
   "metadata": {},
   "outputs": [
    {
     "name": "stdout",
     "output_type": "stream",
     "text": [
      "yes\n",
      "[1, 2, 3, 'a', 'b', '12']\n"
     ]
    }
   ],
   "source": [
    "if\t16\tin\t(1,\t16):\t\n",
    "    print(\"yes\")\t\n",
    "else:\t\n",
    "    print(\"no\")\t\n",
    "    \n",
    "l1\t=\t[1,\t2,\t3]\t\n",
    "l2\t=\t['a',\t'b',\t'12']\t\n",
    "print(l1+l2)"
   ]
  },
  {
   "cell_type": "code",
   "execution_count": 46,
   "metadata": {},
   "outputs": [
    {
     "name": "stdout",
     "output_type": "stream",
     "text": [
      "[1, 2, 3]\n",
      "[4, 5]\n"
     ]
    }
   ],
   "source": [
    "ori\t=\t[1,\t2,\t3,\t4,\t5]\t\n",
    "o1\t=\tori[:3]\t\n",
    "o2\t=\tori[-2:]\t\n",
    "\n",
    "print(o1)\t\n",
    "print(o2)"
   ]
  },
  {
   "cell_type": "code",
   "execution_count": 1,
   "metadata": {},
   "outputs": [
    {
     "name": "stdout",
     "output_type": "stream",
     "text": [
      "[1, 2, 3, '1', 'a']\n"
     ]
    }
   ],
   "source": [
    "ll\t=\t[]\t\n",
    "ll\t+=\t[1,\t2,\t3]\n",
    "ll\t+=\t['1',\t'a']\n",
    "print(ll)"
   ]
  },
  {
   "cell_type": "code",
   "execution_count": 3,
   "metadata": {},
   "outputs": [
    {
     "name": "stdout",
     "output_type": "stream",
     "text": [
      "22\n",
      "21\n",
      "1\n"
     ]
    }
   ],
   "source": [
    "tt\t=\t(21,\t1)\t\n",
    "a\t=\tsum(tt)\t\n",
    "print(a)\t\n",
    "print(tt[0])\t\n",
    "print(tt[-1])"
   ]
  },
  {
   "cell_type": "code",
   "execution_count": 6,
   "metadata": {},
   "outputs": [
    {
     "name": "stdout",
     "output_type": "stream",
     "text": [
      "2.9\n"
     ]
    }
   ],
   "source": [
    "tile_area_and_delay_for_cores = [(1, 2), (10, 5), (2, 5)]\n",
    "a_pre_d_sum = sum([a/d for (a, d) in tile_area_and_delay_for_cores])\n",
    "print(a_pre_d_sum)"
   ]
  },
  {
   "cell_type": "code",
   "execution_count": 39,
   "metadata": {},
   "outputs": [
    {
     "name": "stdout",
     "output_type": "stream",
     "text": [
      "Before swapping: list_a = [1, 2, 3, 4, 5], list_b = ['a', 'b', 'c']\n",
      "After swapping: list_a = ['a', 'b', 'c', 4, 5], list_b = [1, 2, 3]\n"
     ]
    }
   ],
   "source": [
    "list_a\t=\t[1,\t2,\t3,\t4,\t5]\n",
    "list_b\t=\t['a',\t'b',\t'c']\n",
    "\n",
    "print(f\"Before\tswapping:\tlist_a\t=\t{list_a},\tlist_b\t=\t{list_b}\")\n",
    "\n",
    "#\t简化后的交换逻辑\n",
    "min_length\t=\tmin(len(list_a),\tlen(list_b))\n",
    "list_a[:min_length],\tlist_b[:min_length]\t=\tlist_b[:min_length],\tlist_a[:min_length]\n",
    "\n",
    "print(f\"After\tswapping:\tlist_a\t=\t{list_a},\tlist_b\t=\t{list_b}\")"
   ]
  },
  {
   "cell_type": "code",
   "execution_count": 13,
   "metadata": {},
   "outputs": [
    {
     "name": "stdout",
     "output_type": "stream",
     "text": [
      "[1, 4, 7]\n",
      "(2, 5, 8)\n",
      "(3, 6, 9)\n"
     ]
    }
   ],
   "source": [
    "data = ((1, 2, 3), (4, 5, 6), (7, 8, 9))\n",
    "\n",
    "# 使用zip和解压操作\n",
    "l1, l2, l3 = zip(*data)\n",
    "\n",
    "print(list(l1))\n",
    "print(l2)\n",
    "print(l3)"
   ]
  },
  {
   "cell_type": "code",
   "execution_count": 7,
   "metadata": {},
   "outputs": [
    {
     "name": "stdout",
     "output_type": "stream",
     "text": [
      "生成的数组: [5, 1, 3, 1, 0, 1]\n",
      "数组总和: 11\n",
      "各元素是否均<=7: True\n"
     ]
    }
   ],
   "source": [
    "import random\n",
    "\n",
    "def generate_constrained_array():\n",
    "    # 随机生成总和S，范围在10到14之间\n",
    "    S = random.randint(10, 14)\n",
    "    # 初始化数组，所有元素为0\n",
    "    numbers = [0] * 6\n",
    "    # 将S个1随机分配到数组中，确保每个数不超过7\n",
    "    for _ in range(S):\n",
    "        # 找到所有可以增加的位置（值小于7的索引）\n",
    "        possible_indices = [i for i in range(6) if numbers[i] < 7]\n",
    "        # 随机选择一个位置并增加1\n",
    "        chosen = random.choice(possible_indices)\n",
    "        numbers[chosen] += 1\n",
    "    return numbers\n",
    "\n",
    "# 示例调用\n",
    "array = generate_constrained_array()\n",
    "print(\"生成的数组:\", array)\n",
    "print(\"数组总和:\", sum(array))\n",
    "print(\"各元素是否均<=7:\", all(num <= 7 for num in array))"
   ]
  },
  {
   "cell_type": "code",
   "execution_count": 62,
   "metadata": {},
   "outputs": [
    {
     "name": "stdout",
     "output_type": "stream",
     "text": [
      "inf\n",
      "True\n",
      "False\n",
      "-1\n"
     ]
    }
   ],
   "source": [
    "a = float('+inf')\n",
    "\n",
    "print(a)\n",
    "print(a > 10000)\n",
    "print(a < 99999)\n",
    "bbb = random.randint(-2, 2)\n",
    "print(bbb)"
   ]
  },
  {
   "cell_type": "code",
   "execution_count": 64,
   "metadata": {},
   "outputs": [
    {
     "name": "stdout",
     "output_type": "stream",
     "text": [
      "[False, False, False, False]\n"
     ]
    }
   ],
   "source": [
    "core_num = 4\n",
    "bad_core = [False for _ in range(core_num)]\n",
    "print(bad_core)"
   ]
  },
  {
   "cell_type": "code",
   "execution_count": 69,
   "metadata": {},
   "outputs": [
    {
     "name": "stdout",
     "output_type": "stream",
     "text": [
      "[10, 30, 50]\n",
      "2\n",
      "['ccc', 'ccc']\n",
      "['ccc', 'ccc', 10, 30, 50]\n"
     ]
    }
   ],
   "source": [
    "lst = [10, 20, 30, 40, 50]\n",
    "lst_flag = [False, True, False, True, False]\n",
    "\n",
    "# 使用列表推导式和zip函数将两个列表配对，过滤掉lst_flag中True对应的lst中的元素\n",
    "filtered_lst = [x for x, flag in zip(lst, lst_flag) if not flag]\n",
    "news = ['ccc' for _ in range(sum(lst_flag))]\n",
    "\n",
    "print(filtered_lst)\n",
    "print(sum(lst_flag))\n",
    "print(news)\n",
    "print(news+filtered_lst)\n"
   ]
  },
  {
   "cell_type": "code",
   "execution_count": 108,
   "metadata": {},
   "outputs": [
    {
     "name": "stdout",
     "output_type": "stream",
     "text": [
      "14\n",
      "[0, 0, 0]\n"
     ]
    }
   ],
   "source": [
    "core_num = 10\n",
    "new_num = random.randint(core_num, CORE_NUM_RG[1])\n",
    "print(new_num)\n",
    "\n",
    "new_cs = [0 for _ in range(new_num-core_num-1)]\n",
    "print(new_cs)"
   ]
  },
  {
   "cell_type": "code",
   "execution_count": 126,
   "metadata": {},
   "outputs": [
    {
     "name": "stdout",
     "output_type": "stream",
     "text": [
      "yes\n",
      "16\n",
      "16\n"
     ]
    }
   ],
   "source": [
    "bad_core = [False, False, False]\n",
    "if not sum(bad_core):\n",
    "\tprint('yes')\n",
    "\n",
    "from hycops.classes.hardware.core_group import CoreGroup\n",
    "core_num = 10\n",
    "cores = [1 for _ in range(core_num)]\n",
    "new_core_num = random.randint(core_num, CORE_NUM_RG[1])\n",
    "cores += [0 for _ in range(new_core_num-core_num)]\n",
    "core_num = new_core_num\n",
    "print(core_num)\n",
    "print(len(cores))"
   ]
  },
  {
   "cell_type": "code",
   "execution_count": 144,
   "metadata": {},
   "outputs": [
    {
     "name": "stdout",
     "output_type": "stream",
     "text": [
      "8\n",
      "8\n"
     ]
    }
   ],
   "source": [
    "core_num = 10\n",
    "cores = [1 for _ in range(core_num)]\n",
    "\n",
    "new_core_num = random.randint(CORE_NUM_RG[0], core_num)\n",
    "cores__a = cores\n",
    "random.shuffle(cores__a)\n",
    "cores = cores__a[:new_core_num]\n",
    "core_num = new_core_num\n",
    "\n",
    "print(len(cores))\n",
    "print(core_num)"
   ]
  },
  {
   "cell_type": "code",
   "execution_count": 95,
   "metadata": {},
   "outputs": [
    {
     "name": "stdout",
     "output_type": "stream",
     "text": [
      "[False, False, True, False, True, True, False]\n"
     ]
    }
   ],
   "source": [
    "num_factor = [12, 14, 1, 34, 1, 1, 9]\n",
    "bad_core = [n==1 for n in num_factor]\n",
    "\n",
    "print(bad_core)"
   ]
  },
  {
   "cell_type": "code",
   "execution_count": 38,
   "metadata": {},
   "outputs": [
    {
     "name": "stdout",
     "output_type": "stream",
     "text": [
      "[10, 11, 12, 13]\n",
      "4\n"
     ]
    }
   ],
   "source": [
    "a = 10\n",
    "assert a in range(10, 14), 'no!!!'\n",
    "\n",
    "aaa = list(range(10, 14))\n",
    "print(aaa)\n",
    "\n",
    "RRR = (2, 4)\n",
    "bw_power=random.randint(*RRR)\n",
    "print(bw_power)"
   ]
  },
  {
   "cell_type": "code",
   "execution_count": null,
   "metadata": {},
   "outputs": [
    {
     "ename": "AssertionError",
     "evalue": "Error",
     "output_type": "error",
     "traceback": [
      "\u001b[0;31m---------------------------------------------------------------------------\u001b[0m",
      "\u001b[0;31mAssertionError\u001b[0m                            Traceback (most recent call last)",
      "Cell \u001b[0;32mIn[4], line 5\u001b[0m\n\u001b[1;32m      1\u001b[0m \u001b[38;5;28;01mfrom\u001b[39;00m \u001b[38;5;21;01mhycops\u001b[39;00m\u001b[38;5;21;01m.\u001b[39;00m\u001b[38;5;21;01mclasses\u001b[39;00m\u001b[38;5;21;01m.\u001b[39;00m\u001b[38;5;21;01mhardware\u001b[39;00m\u001b[38;5;21;01m.\u001b[39;00m\u001b[38;5;21;01mcore_group\u001b[39;00m \u001b[38;5;28;01mimport\u001b[39;00m \u001b[38;5;241m*\u001b[39m\n\u001b[1;32m      3\u001b[0m a \u001b[38;5;241m=\u001b[39m \u001b[38;5;241m17\u001b[39m\n\u001b[0;32m----> 5\u001b[0m \u001b[38;5;28;01massert\u001b[39;00m a \u001b[38;5;129;01min\u001b[39;00m \u001b[38;5;28mrange\u001b[39m(\u001b[38;5;241m*\u001b[39mCORE_NUM_RG), \u001b[38;5;124m\"\u001b[39m\u001b[38;5;124mError\u001b[39m\u001b[38;5;124m\"\u001b[39m\n\u001b[1;32m      6\u001b[0m \u001b[38;5;28mprint\u001b[39m(\u001b[38;5;124m'\u001b[39m\u001b[38;5;124myes\u001b[39m\u001b[38;5;124m'\u001b[39m)\n",
      "\u001b[0;31mAssertionError\u001b[0m: Error"
     ]
    }
   ],
   "source": [
    "from hycops.classes.hardware.range_parameter import *\n",
    "\n",
    "a = 17\n",
    "\n",
    "assert a in range(*CORE_NUM_RG), \"Error\"\n",
    "print('yes')"
   ]
  }
 ],
 "metadata": {
  "kernelspec": {
   "display_name": "base",
   "language": "python",
   "name": "python3"
  },
  "language_info": {
   "codemirror_mode": {
    "name": "ipython",
    "version": 3
   },
   "file_extension": ".py",
   "mimetype": "text/x-python",
   "name": "python",
   "nbconvert_exporter": "python",
   "pygments_lexer": "ipython3",
   "version": "3.12.4"
  }
 },
 "nbformat": 4,
 "nbformat_minor": 2
}
